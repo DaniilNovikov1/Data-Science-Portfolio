{
 "cells": [
  {
   "cell_type": "markdown",
   "id": "4f2293ac",
   "metadata": {},
   "source": [
    "# Titanic: Predicting Survival \n",
    "\n",
    "## Project Background \n",
    "\n",
    "The RMS Titanic is the most well-known ship in modern history. During its maiden voyage, the RMS Titanic fatally struck an iceberg that led to it's sinking. Tragically, around 2/3 of it's passengers and crew died. The distaster drew great public attention and inspired numerous generations of artistic work like James Cameron's Titanic. \n",
    "\n",
    "In this project, we will be analyzing the 'titanic' dataset from the seaborn package. This dataset contains a sample of 891 passengers from the ship and information about them and their voyage. Using the dataset, we will answer the following question: can we accurately predict if a passenger, based on a variety of objective variables, will survive the sinking of the Titanic? \n",
    "\n",
    "The project is organized into the 5 sections belows:\n",
    "<ol>\n",
    "<li>Importing Important Libraries, Packages, and Modules</li>\n",
    "<li>Exploratory Data Analysis</li>\n",
    "<li>Data Cleaning/Transformation</li>\n",
    "<li>Modeling</li>\n",
    "<li>Model Evaluation</li>"
   ]
  },
  {
   "cell_type": "markdown",
   "id": "cf3ebc0f",
   "metadata": {},
   "source": [
    "## 1. Importing Important Libraries, Packages, and Modules\n"
   ]
  },
  {
   "cell_type": "code",
   "execution_count": 1,
   "id": "bdc4b443",
   "metadata": {},
   "outputs": [],
   "source": [
    "import numpy as np # data manipulation\n",
    "import pandas as pd # data manipulation\n",
    "import seaborn as sns # visualization and includes 'titanic' dataset\n",
    "import matplotlib.pyplot as plt # visualization"
   ]
  },
  {
   "cell_type": "markdown",
   "id": "9460c218",
   "metadata": {},
   "source": [
    "## 2. Exploratory Data Analysis\n",
    "In this section, we will explore the dataset by getting summary statistics, calculating rates and ratios, and producing visualizations. "
   ]
  },
  {
   "cell_type": "code",
   "execution_count": 2,
   "id": "f8dc0a89",
   "metadata": {},
   "outputs": [
    {
     "data": {
      "text/html": [
       "<div>\n",
       "<style scoped>\n",
       "    .dataframe tbody tr th:only-of-type {\n",
       "        vertical-align: middle;\n",
       "    }\n",
       "\n",
       "    .dataframe tbody tr th {\n",
       "        vertical-align: top;\n",
       "    }\n",
       "\n",
       "    .dataframe thead th {\n",
       "        text-align: right;\n",
       "    }\n",
       "</style>\n",
       "<table border=\"1\" class=\"dataframe\">\n",
       "  <thead>\n",
       "    <tr style=\"text-align: right;\">\n",
       "      <th></th>\n",
       "      <th>survived</th>\n",
       "      <th>pclass</th>\n",
       "      <th>sex</th>\n",
       "      <th>age</th>\n",
       "      <th>sibsp</th>\n",
       "      <th>parch</th>\n",
       "      <th>fare</th>\n",
       "      <th>embarked</th>\n",
       "      <th>class</th>\n",
       "      <th>who</th>\n",
       "      <th>adult_male</th>\n",
       "      <th>deck</th>\n",
       "      <th>embark_town</th>\n",
       "      <th>alive</th>\n",
       "      <th>alone</th>\n",
       "    </tr>\n",
       "  </thead>\n",
       "  <tbody>\n",
       "    <tr>\n",
       "      <th>0</th>\n",
       "      <td>0</td>\n",
       "      <td>3</td>\n",
       "      <td>male</td>\n",
       "      <td>22.0</td>\n",
       "      <td>1</td>\n",
       "      <td>0</td>\n",
       "      <td>7.2500</td>\n",
       "      <td>S</td>\n",
       "      <td>Third</td>\n",
       "      <td>man</td>\n",
       "      <td>True</td>\n",
       "      <td>NaN</td>\n",
       "      <td>Southampton</td>\n",
       "      <td>no</td>\n",
       "      <td>False</td>\n",
       "    </tr>\n",
       "    <tr>\n",
       "      <th>1</th>\n",
       "      <td>1</td>\n",
       "      <td>1</td>\n",
       "      <td>female</td>\n",
       "      <td>38.0</td>\n",
       "      <td>1</td>\n",
       "      <td>0</td>\n",
       "      <td>71.2833</td>\n",
       "      <td>C</td>\n",
       "      <td>First</td>\n",
       "      <td>woman</td>\n",
       "      <td>False</td>\n",
       "      <td>C</td>\n",
       "      <td>Cherbourg</td>\n",
       "      <td>yes</td>\n",
       "      <td>False</td>\n",
       "    </tr>\n",
       "    <tr>\n",
       "      <th>2</th>\n",
       "      <td>1</td>\n",
       "      <td>3</td>\n",
       "      <td>female</td>\n",
       "      <td>26.0</td>\n",
       "      <td>0</td>\n",
       "      <td>0</td>\n",
       "      <td>7.9250</td>\n",
       "      <td>S</td>\n",
       "      <td>Third</td>\n",
       "      <td>woman</td>\n",
       "      <td>False</td>\n",
       "      <td>NaN</td>\n",
       "      <td>Southampton</td>\n",
       "      <td>yes</td>\n",
       "      <td>True</td>\n",
       "    </tr>\n",
       "    <tr>\n",
       "      <th>3</th>\n",
       "      <td>1</td>\n",
       "      <td>1</td>\n",
       "      <td>female</td>\n",
       "      <td>35.0</td>\n",
       "      <td>1</td>\n",
       "      <td>0</td>\n",
       "      <td>53.1000</td>\n",
       "      <td>S</td>\n",
       "      <td>First</td>\n",
       "      <td>woman</td>\n",
       "      <td>False</td>\n",
       "      <td>C</td>\n",
       "      <td>Southampton</td>\n",
       "      <td>yes</td>\n",
       "      <td>False</td>\n",
       "    </tr>\n",
       "    <tr>\n",
       "      <th>4</th>\n",
       "      <td>0</td>\n",
       "      <td>3</td>\n",
       "      <td>male</td>\n",
       "      <td>35.0</td>\n",
       "      <td>0</td>\n",
       "      <td>0</td>\n",
       "      <td>8.0500</td>\n",
       "      <td>S</td>\n",
       "      <td>Third</td>\n",
       "      <td>man</td>\n",
       "      <td>True</td>\n",
       "      <td>NaN</td>\n",
       "      <td>Southampton</td>\n",
       "      <td>no</td>\n",
       "      <td>True</td>\n",
       "    </tr>\n",
       "  </tbody>\n",
       "</table>\n",
       "</div>"
      ],
      "text/plain": [
       "   survived  pclass     sex   age  sibsp  parch     fare embarked  class  \\\n",
       "0         0       3    male  22.0      1      0   7.2500        S  Third   \n",
       "1         1       1  female  38.0      1      0  71.2833        C  First   \n",
       "2         1       3  female  26.0      0      0   7.9250        S  Third   \n",
       "3         1       1  female  35.0      1      0  53.1000        S  First   \n",
       "4         0       3    male  35.0      0      0   8.0500        S  Third   \n",
       "\n",
       "     who  adult_male deck  embark_town alive  alone  \n",
       "0    man        True  NaN  Southampton    no  False  \n",
       "1  woman       False    C    Cherbourg   yes  False  \n",
       "2  woman       False  NaN  Southampton   yes   True  \n",
       "3  woman       False    C  Southampton   yes  False  \n",
       "4    man        True  NaN  Southampton    no   True  "
      ]
     },
     "execution_count": 2,
     "metadata": {},
     "output_type": "execute_result"
    }
   ],
   "source": [
    "# load 'titanic dataset'\n",
    "titanic = sns.load_dataset('titanic')\n",
    "\n",
    "# preview the data\n",
    "titanic.head()"
   ]
  },
  {
   "cell_type": "markdown",
   "id": "467fc84b",
   "metadata": {},
   "source": [
    "As we can see above, the data features the following variables:\n",
    "<ul>\n",
    "<li>survived - survival (0 = No; 1 = Yes)</li> \n",
    "<li>pclass - passenger class (1 = 1st, 2 = 2nd, 3 = 3rd) </li>\n",
    "<li>sex - male, female</li>\n",
    "<li>age - persons age in years</li>\n",
    "<li>sibsp - number of sibling/spouse aboard</li>\n",
    "<li>parch - number of parents/children aboard</li>\n",
    "<li>fare - fare</li>\n",
    "<li>embarked - port of embarkation (C = Cherbourg, Q = Queenstown, S = Southhampton</li>\n",
    "<li>class - passenger class</li>\n",
    "<li>who - man, woman, child</li>\n",
    "<li>adult_male - True, False</li>\n",
    "<li>deck - deck of the ship</li>\n",
    "<li>embark_town - port of embarkation</li>\n",
    "<li>alive - yes, no</li>\n",
    "<li>alone - if the passenger was alone or not (True, False)</li>\n",
    "</ul>\n",
    "We can already see that there are numerous redundant variables, like survived and alive, that we will remove later."
   ]
  },
  {
   "cell_type": "code",
   "execution_count": 3,
   "id": "b0041357",
   "metadata": {},
   "outputs": [
    {
     "data": {
      "text/plain": [
       "(891, 15)"
      ]
     },
     "execution_count": 3,
     "metadata": {},
     "output_type": "execute_result"
    }
   ],
   "source": [
    "# get the number of rows and columns in the data\n",
    "titanic.shape\n",
    "# 891 rows and 15 columns of data\n",
    "# each row represents a passenger"
   ]
  },
  {
   "cell_type": "code",
   "execution_count": 4,
   "id": "1f1ed247",
   "metadata": {},
   "outputs": [
    {
     "data": {
      "text/html": [
       "<div>\n",
       "<style scoped>\n",
       "    .dataframe tbody tr th:only-of-type {\n",
       "        vertical-align: middle;\n",
       "    }\n",
       "\n",
       "    .dataframe tbody tr th {\n",
       "        vertical-align: top;\n",
       "    }\n",
       "\n",
       "    .dataframe thead th {\n",
       "        text-align: right;\n",
       "    }\n",
       "</style>\n",
       "<table border=\"1\" class=\"dataframe\">\n",
       "  <thead>\n",
       "    <tr style=\"text-align: right;\">\n",
       "      <th></th>\n",
       "      <th>survived</th>\n",
       "      <th>pclass</th>\n",
       "      <th>age</th>\n",
       "      <th>sibsp</th>\n",
       "      <th>parch</th>\n",
       "      <th>fare</th>\n",
       "    </tr>\n",
       "  </thead>\n",
       "  <tbody>\n",
       "    <tr>\n",
       "      <th>count</th>\n",
       "      <td>891.000000</td>\n",
       "      <td>891.000000</td>\n",
       "      <td>714.000000</td>\n",
       "      <td>891.000000</td>\n",
       "      <td>891.000000</td>\n",
       "      <td>891.000000</td>\n",
       "    </tr>\n",
       "    <tr>\n",
       "      <th>mean</th>\n",
       "      <td>0.383838</td>\n",
       "      <td>2.308642</td>\n",
       "      <td>29.699118</td>\n",
       "      <td>0.523008</td>\n",
       "      <td>0.381594</td>\n",
       "      <td>32.204208</td>\n",
       "    </tr>\n",
       "    <tr>\n",
       "      <th>std</th>\n",
       "      <td>0.486592</td>\n",
       "      <td>0.836071</td>\n",
       "      <td>14.526497</td>\n",
       "      <td>1.102743</td>\n",
       "      <td>0.806057</td>\n",
       "      <td>49.693429</td>\n",
       "    </tr>\n",
       "    <tr>\n",
       "      <th>min</th>\n",
       "      <td>0.000000</td>\n",
       "      <td>1.000000</td>\n",
       "      <td>0.420000</td>\n",
       "      <td>0.000000</td>\n",
       "      <td>0.000000</td>\n",
       "      <td>0.000000</td>\n",
       "    </tr>\n",
       "    <tr>\n",
       "      <th>25%</th>\n",
       "      <td>0.000000</td>\n",
       "      <td>2.000000</td>\n",
       "      <td>20.125000</td>\n",
       "      <td>0.000000</td>\n",
       "      <td>0.000000</td>\n",
       "      <td>7.910400</td>\n",
       "    </tr>\n",
       "    <tr>\n",
       "      <th>50%</th>\n",
       "      <td>0.000000</td>\n",
       "      <td>3.000000</td>\n",
       "      <td>28.000000</td>\n",
       "      <td>0.000000</td>\n",
       "      <td>0.000000</td>\n",
       "      <td>14.454200</td>\n",
       "    </tr>\n",
       "    <tr>\n",
       "      <th>75%</th>\n",
       "      <td>1.000000</td>\n",
       "      <td>3.000000</td>\n",
       "      <td>38.000000</td>\n",
       "      <td>1.000000</td>\n",
       "      <td>0.000000</td>\n",
       "      <td>31.000000</td>\n",
       "    </tr>\n",
       "    <tr>\n",
       "      <th>max</th>\n",
       "      <td>1.000000</td>\n",
       "      <td>3.000000</td>\n",
       "      <td>80.000000</td>\n",
       "      <td>8.000000</td>\n",
       "      <td>6.000000</td>\n",
       "      <td>512.329200</td>\n",
       "    </tr>\n",
       "  </tbody>\n",
       "</table>\n",
       "</div>"
      ],
      "text/plain": [
       "         survived      pclass         age       sibsp       parch        fare\n",
       "count  891.000000  891.000000  714.000000  891.000000  891.000000  891.000000\n",
       "mean     0.383838    2.308642   29.699118    0.523008    0.381594   32.204208\n",
       "std      0.486592    0.836071   14.526497    1.102743    0.806057   49.693429\n",
       "min      0.000000    1.000000    0.420000    0.000000    0.000000    0.000000\n",
       "25%      0.000000    2.000000   20.125000    0.000000    0.000000    7.910400\n",
       "50%      0.000000    3.000000   28.000000    0.000000    0.000000   14.454200\n",
       "75%      1.000000    3.000000   38.000000    1.000000    0.000000   31.000000\n",
       "max      1.000000    3.000000   80.000000    8.000000    6.000000  512.329200"
      ]
     },
     "execution_count": 4,
     "metadata": {},
     "output_type": "execute_result"
    }
   ],
   "source": [
    "# obtain some summary statistics on each numerical parameter\n",
    "titanic.describe()\n",
    "# noteably age has a cound less than 891, meaning there are many missing values"
   ]
  },
  {
   "cell_type": "code",
   "execution_count": 5,
   "id": "159a0bc4",
   "metadata": {},
   "outputs": [
    {
     "data": {
      "text/plain": [
       "0    549\n",
       "1    342\n",
       "Name: survived, dtype: int64"
      ]
     },
     "execution_count": 5,
     "metadata": {},
     "output_type": "execute_result"
    }
   ],
   "source": [
    "# determine how many passengers survived\n",
    "titanic['survived'].value_counts()\n",
    "# 549 did not survive, 342 did"
   ]
  },
  {
   "cell_type": "code",
   "execution_count": 6,
   "id": "69073516",
   "metadata": {},
   "outputs": [
    {
     "data": {
      "text/plain": [
       "<AxesSubplot:xlabel='survived', ylabel='count'>"
      ]
     },
     "execution_count": 6,
     "metadata": {},
     "output_type": "execute_result"
    },
    {
     "data": {
      "image/png": "[encoded data removed]",
      "text/plain": [
       "<Figure size 432x288 with 1 Axes>"
      ]
     },
     "metadata": {
      "needs_background": "light"
     },
     "output_type": "display_data"
    }
   ],
   "source": [
    "# visualize survival\n",
    "sns.countplot(x=titanic['survived'])"
   ]
  },
  {
   "cell_type": "code",
   "execution_count": 7,
   "id": "b73e8278",
   "metadata": {},
   "outputs": [
    {
     "data": {
      "image/png": "[encoded data removed]",
      "text/plain": [
       "<Figure size 756x504 with 6 Axes>"
      ]
     },
     "metadata": {
      "needs_background": "light"
     },
     "output_type": "display_data"
    }
   ],
   "source": [
    "# visualize survival based on the variables: 'sex', 'who', 'pclass', 'sibsq', 'parch', 'embarked'\n",
    "variables = ['sex', 'who', 'pclass', 'sibsp', 'parch', 'embarked']\n",
    "\n",
    "# 2 x 3 gives us 6 subplots, one fore each variable\n",
    "rows = 2 \n",
    "columns = 3 \n",
    "# get empty plots\n",
    "figure, axis = plt.subplots(rows, columns, figsize=(columns*3.5,rows*3.5)) # get empty plots\n",
    "# loop to fill up empty plots\n",
    "for r in range(0, rows):\n",
    "    for c in range(0,columns):\n",
    "        i = r * columns + c # indexer\n",
    "        axs = axis[r][c] # show where to position each subplot\n",
    "        sns.countplot(x=titanic[variables[i]], hue=titanic['survived'],ax=axs)\n",
    "        axs.set_title(variables[i]) # set title for each plot\n",
    "        axs.legend(title='survived',loc='upper right')\n",
    "plt.tight_layout() # minimal spacing between each subplot"
   ]
  },
  {
   "cell_type": "markdown",
   "id": "6fad0020",
   "metadata": {},
   "source": [
    "From these charts we can make numerous observations. For instance, men were unlikely to survive the Titanic accident, women and/or females were the most likely to survive, and class played an important role in determining surivival. In addition, embarking at Charbourg increased one's chances of survival as well. Evidently, one's class and sex determined their likeliness to survive greatly (being a woman and in a higher class improved survival). However, to gain a better understanding, we should quantify this."
   ]
  },
  {
   "cell_type": "code",
   "execution_count": 8,
   "id": "f3411496",
   "metadata": {},
   "outputs": [
    {
     "data": {
      "text/html": [
       "<div>\n",
       "<style scoped>\n",
       "    .dataframe tbody tr th:only-of-type {\n",
       "        vertical-align: middle;\n",
       "    }\n",
       "\n",
       "    .dataframe tbody tr th {\n",
       "        vertical-align: top;\n",
       "    }\n",
       "\n",
       "    .dataframe thead th {\n",
       "        text-align: right;\n",
       "    }\n",
       "</style>\n",
       "<table border=\"1\" class=\"dataframe\">\n",
       "  <thead>\n",
       "    <tr style=\"text-align: right;\">\n",
       "      <th></th>\n",
       "      <th>survived</th>\n",
       "    </tr>\n",
       "    <tr>\n",
       "      <th>sex</th>\n",
       "      <th></th>\n",
       "    </tr>\n",
       "  </thead>\n",
       "  <tbody>\n",
       "    <tr>\n",
       "      <th>female</th>\n",
       "      <td>0.742038</td>\n",
       "    </tr>\n",
       "    <tr>\n",
       "      <th>male</th>\n",
       "      <td>0.188908</td>\n",
       "    </tr>\n",
       "  </tbody>\n",
       "</table>\n",
       "</div>"
      ],
      "text/plain": [
       "        survived\n",
       "sex             \n",
       "female  0.742038\n",
       "male    0.188908"
      ]
     },
     "execution_count": 8,
     "metadata": {},
     "output_type": "execute_result"
    }
   ],
   "source": [
    "# survival rate by sex\n",
    "titanic.groupby('sex')[['survived']].mean()"
   ]
  },
  {
   "cell_type": "code",
   "execution_count": 9,
   "id": "982b02da",
   "metadata": {},
   "outputs": [
    {
     "data": {
      "text/html": [
       "<div>\n",
       "<style scoped>\n",
       "    .dataframe tbody tr th:only-of-type {\n",
       "        vertical-align: middle;\n",
       "    }\n",
       "\n",
       "    .dataframe tbody tr th {\n",
       "        vertical-align: top;\n",
       "    }\n",
       "\n",
       "    .dataframe thead th {\n",
       "        text-align: right;\n",
       "    }\n",
       "</style>\n",
       "<table border=\"1\" class=\"dataframe\">\n",
       "  <thead>\n",
       "    <tr style=\"text-align: right;\">\n",
       "      <th>class</th>\n",
       "      <th>First</th>\n",
       "      <th>Second</th>\n",
       "      <th>Third</th>\n",
       "    </tr>\n",
       "    <tr>\n",
       "      <th>sex</th>\n",
       "      <th></th>\n",
       "      <th></th>\n",
       "      <th></th>\n",
       "    </tr>\n",
       "  </thead>\n",
       "  <tbody>\n",
       "    <tr>\n",
       "      <th>female</th>\n",
       "      <td>0.968085</td>\n",
       "      <td>0.921053</td>\n",
       "      <td>0.500000</td>\n",
       "    </tr>\n",
       "    <tr>\n",
       "      <th>male</th>\n",
       "      <td>0.368852</td>\n",
       "      <td>0.157407</td>\n",
       "      <td>0.135447</td>\n",
       "    </tr>\n",
       "  </tbody>\n",
       "</table>\n",
       "</div>"
      ],
      "text/plain": [
       "class      First    Second     Third\n",
       "sex                                 \n",
       "female  0.968085  0.921053  0.500000\n",
       "male    0.368852  0.157407  0.135447"
      ]
     },
     "execution_count": 9,
     "metadata": {},
     "output_type": "execute_result"
    }
   ],
   "source": [
    "# survival rate by class and sex\n",
    "titanic.pivot_table('survived', index='sex',columns='class')"
   ]
  },
  {
   "cell_type": "code",
   "execution_count": 10,
   "id": "8bbdb026",
   "metadata": {},
   "outputs": [
    {
     "data": {
      "text/plain": [
       "<AxesSubplot:xlabel='class', ylabel='survived'>"
      ]
     },
     "execution_count": 10,
     "metadata": {},
     "output_type": "execute_result"
    },
    {
     "data": {
      "image/png": "[encoded data removed]",
      "text/plain": [
       "<Figure size 432x288 with 1 Axes>"
      ]
     },
     "metadata": {
      "needs_background": "light"
     },
     "output_type": "display_data"
    }
   ],
   "source": [
    "# visualize overall survival rate by class\n",
    "sns.barplot(x='class', y='survived', data=titanic)"
   ]
  },
  {
   "cell_type": "code",
   "execution_count": 11,
   "id": "67b61282",
   "metadata": {},
   "outputs": [
    {
     "data": {
      "text/html": [
       "<div>\n",
       "<style scoped>\n",
       "    .dataframe tbody tr th:only-of-type {\n",
       "        vertical-align: middle;\n",
       "    }\n",
       "\n",
       "    .dataframe tbody tr th {\n",
       "        vertical-align: top;\n",
       "    }\n",
       "\n",
       "    .dataframe thead th {\n",
       "        text-align: right;\n",
       "    }\n",
       "</style>\n",
       "<table border=\"1\" class=\"dataframe\">\n",
       "  <thead>\n",
       "    <tr style=\"text-align: right;\">\n",
       "      <th></th>\n",
       "      <th>class</th>\n",
       "      <th>First</th>\n",
       "      <th>Second</th>\n",
       "      <th>Third</th>\n",
       "    </tr>\n",
       "    <tr>\n",
       "      <th>sex</th>\n",
       "      <th>age</th>\n",
       "      <th></th>\n",
       "      <th></th>\n",
       "      <th></th>\n",
       "    </tr>\n",
       "  </thead>\n",
       "  <tbody>\n",
       "    <tr>\n",
       "      <th rowspan=\"2\" valign=\"top\">female</th>\n",
       "      <th>(0, 18]</th>\n",
       "      <td>0.909091</td>\n",
       "      <td>1.000000</td>\n",
       "      <td>0.511628</td>\n",
       "    </tr>\n",
       "    <tr>\n",
       "      <th>(18, 80]</th>\n",
       "      <td>0.972973</td>\n",
       "      <td>0.900000</td>\n",
       "      <td>0.423729</td>\n",
       "    </tr>\n",
       "    <tr>\n",
       "      <th rowspan=\"2\" valign=\"top\">male</th>\n",
       "      <th>(0, 18]</th>\n",
       "      <td>0.800000</td>\n",
       "      <td>0.600000</td>\n",
       "      <td>0.215686</td>\n",
       "    </tr>\n",
       "    <tr>\n",
       "      <th>(18, 80]</th>\n",
       "      <td>0.375000</td>\n",
       "      <td>0.071429</td>\n",
       "      <td>0.133663</td>\n",
       "    </tr>\n",
       "  </tbody>\n",
       "</table>\n",
       "</div>"
      ],
      "text/plain": [
       "class               First    Second     Third\n",
       "sex    age                                   \n",
       "female (0, 18]   0.909091  1.000000  0.511628\n",
       "       (18, 80]  0.972973  0.900000  0.423729\n",
       "male   (0, 18]   0.800000  0.600000  0.215686\n",
       "       (18, 80]  0.375000  0.071429  0.133663"
      ]
     },
     "execution_count": 11,
     "metadata": {},
     "output_type": "execute_result"
    }
   ],
   "source": [
    "# look at survival by sex, age, and class\n",
    "age = pd.cut(titanic['age'], [0,18,80]) # divide age into adults and non adults\n",
    "titanic.pivot_table('survived',['sex', age], 'class')"
   ]
  },
  {
   "cell_type": "markdown",
   "id": "bef9825a",
   "metadata": {},
   "source": [
    "We continue to see the same pattern. The lower class someone is, the more likely they are not going to survive. Furthermore, being male and an adult is a severe disadvantage. In addition, being older reduced one's change of survival too. Note that the second class females 18 and under have a perfect survival rate. This is a result of there being a very small sample of inviduals who fit this category."
   ]
  },
  {
   "cell_type": "markdown",
   "id": "2cbd513d",
   "metadata": {},
   "source": [
    "## 3. Data Cleaning/Transformation\n",
    "Now that we have made several observations about the dataset, we can begin cleaing and transforming it for predictive modeling. First we will begin by handling missing values. "
   ]
  },
  {
   "cell_type": "code",
   "execution_count": 12,
   "id": "40f76f53",
   "metadata": {},
   "outputs": [
    {
     "data": {
      "text/plain": [
       "survived         0\n",
       "pclass           0\n",
       "sex              0\n",
       "age            177\n",
       "sibsp            0\n",
       "parch            0\n",
       "fare             0\n",
       "embarked         2\n",
       "class            0\n",
       "who              0\n",
       "adult_male       0\n",
       "deck           688\n",
       "embark_town      2\n",
       "alive            0\n",
       "alone            0\n",
       "dtype: int64"
      ]
     },
     "execution_count": 12,
     "metadata": {},
     "output_type": "execute_result"
    }
   ],
   "source": [
    "# obtain number of missing values in each column\n",
    "titanic.isna().sum()"
   ]
  },
  {
   "cell_type": "code",
   "execution_count": 13,
   "id": "51410acb",
   "metadata": {},
   "outputs": [
    {
     "name": "stdout",
     "output_type": "stream",
     "text": [
      "0    549\n",
      "1    342\n",
      "Name: survived, dtype: int64\n",
      "\n",
      "3    491\n",
      "1    216\n",
      "2    184\n",
      "Name: pclass, dtype: int64\n",
      "\n",
      "male      577\n",
      "female    314\n",
      "Name: sex, dtype: int64\n",
      "\n",
      "24.00    30\n",
      "22.00    27\n",
      "18.00    26\n",
      "19.00    25\n",
      "28.00    25\n",
      "         ..\n",
      "36.50     1\n",
      "55.50     1\n",
      "0.92      1\n",
      "23.50     1\n",
      "74.00     1\n",
      "Name: age, Length: 88, dtype: int64\n",
      "\n",
      "0    608\n",
      "1    209\n",
      "2     28\n",
      "4     18\n",
      "3     16\n",
      "8      7\n",
      "5      5\n",
      "Name: sibsp, dtype: int64\n",
      "\n",
      "0    678\n",
      "1    118\n",
      "2     80\n",
      "5      5\n",
      "3      5\n",
      "4      4\n",
      "6      1\n",
      "Name: parch, dtype: int64\n",
      "\n",
      "8.0500     43\n",
      "13.0000    42\n",
      "7.8958     38\n",
      "7.7500     34\n",
      "26.0000    31\n",
      "           ..\n",
      "35.0000     1\n",
      "28.5000     1\n",
      "6.2375      1\n",
      "14.0000     1\n",
      "10.5167     1\n",
      "Name: fare, Length: 248, dtype: int64\n",
      "\n",
      "S    644\n",
      "C    168\n",
      "Q     77\n",
      "Name: embarked, dtype: int64\n",
      "\n",
      "Third     491\n",
      "First     216\n",
      "Second    184\n",
      "Name: class, dtype: int64\n",
      "\n",
      "man      537\n",
      "woman    271\n",
      "child     83\n",
      "Name: who, dtype: int64\n",
      "\n",
      "True     537\n",
      "False    354\n",
      "Name: adult_male, dtype: int64\n",
      "\n",
      "C    59\n",
      "B    47\n",
      "D    33\n",
      "E    32\n",
      "A    15\n",
      "F    13\n",
      "G     4\n",
      "Name: deck, dtype: int64\n",
      "\n",
      "Southampton    644\n",
      "Cherbourg      168\n",
      "Queenstown      77\n",
      "Name: embark_town, dtype: int64\n",
      "\n",
      "no     549\n",
      "yes    342\n",
      "Name: alive, dtype: int64\n",
      "\n",
      "True     537\n",
      "False    354\n",
      "Name: alone, dtype: int64\n",
      "\n"
     ]
    }
   ],
   "source": [
    "# determine which columns are redundant\n",
    "for index in titanic:\n",
    "    print(titanic[index].value_counts())\n",
    "    print()"
   ]
  },
  {
   "cell_type": "markdown",
   "id": "50f3322b",
   "metadata": {},
   "source": [
    "In the two cells above we can make several observations. First, the variable deck is missing 688 values, which means that the majority of the sample lacks this data. As a result, we will remove this column from our analysis for it is too incomplete. In addition, the redundancy of several columns is evident as well in that they share the same counts of specific values. These pairs or groups of columns include survived/alive, embarked/embark_town, pclass/class, sibsp/alone, and sex/who/adult_male. As result we will be dropping several columns and rows."
   ]
  },
  {
   "cell_type": "code",
   "execution_count": 14,
   "id": "b8513607",
   "metadata": {},
   "outputs": [
    {
     "data": {
      "text/plain": [
       "(891, 8)"
      ]
     },
     "execution_count": 14,
     "metadata": {},
     "output_type": "execute_result"
    }
   ],
   "source": [
    "# drop redundant columns\n",
    "titanic = titanic.drop(['class','who','adult_male','deck','embark_town','alive','alone'], axis=1)\n",
    "# observe change in shape\n",
    "# 7 less columns\n",
    "titanic.shape"
   ]
  },
  {
   "cell_type": "code",
   "execution_count": 18,
   "id": "65c411f5",
   "metadata": {},
   "outputs": [
    {
     "data": {
      "text/plain": [
       "(712, 8)"
      ]
     },
     "execution_count": 18,
     "metadata": {},
     "output_type": "execute_result"
    }
   ],
   "source": [
    "# drop incomplete data\n",
    "titanic = titanic.dropna(subset=['embarked','age'])\n",
    "# observe change in shape \n",
    "# 179 less rows\n",
    "titanic.shape"
   ]
  },
  {
   "cell_type": "markdown",
   "id": "6ccad491",
   "metadata": {},
   "source": [
    "Now that we have gotten rid of missing values, we need to make sure that all the value are numerical so that we can use the data for our statistical models. If any values are non-numerical, we have to convert them to numerical types."
   ]
  },
  {
   "cell_type": "code",
   "execution_count": 19,
   "id": "55a2f1a7",
   "metadata": {},
   "outputs": [
    {
     "data": {
      "text/plain": [
       "survived      int64\n",
       "pclass        int64\n",
       "sex          object\n",
       "age         float64\n",
       "sibsp         int64\n",
       "parch         int64\n",
       "fare        float64\n",
       "embarked     object\n",
       "dtype: object"
      ]
     },
     "execution_count": 19,
     "metadata": {},
     "output_type": "execute_result"
    }
   ],
   "source": [
    "# get data type of each variable\n",
    "titanic.dtypes\n",
    "# 'sex' and 'embarked' are both object dtypes, this will need to be changed"
   ]
  },
  {
   "cell_type": "code",
   "execution_count": 20,
   "id": "cd638f09",
   "metadata": {},
   "outputs": [
    {
     "name": "stdout",
     "output_type": "stream",
     "text": [
      "['male' 'female']\n",
      "['S' 'C' 'Q']\n"
     ]
    }
   ],
   "source": [
    "# observe the unique values in 'sex' and 'embarked' \n",
    "print(titanic['sex'].unique())\n",
    "print(titanic['embarked'].unique())"
   ]
  },
  {
   "cell_type": "code",
   "execution_count": 33,
   "id": "df36658c",
   "metadata": {},
   "outputs": [
    {
     "name": "stdout",
     "output_type": "stream",
     "text": [
      "    survived  pclass  sex   age  sibsp  parch     fare  embarked\n",
      "0          0       3    1  22.0      1      0   7.2500         0\n",
      "1          1       1    0  38.0      1      0  71.2833         1\n",
      "2          1       3    0  26.0      0      0   7.9250         0\n",
      "3          1       1    0  35.0      1      0  53.1000         0\n",
      "4          0       3    1  35.0      0      0   8.0500         0\n",
      "6          0       1    1  54.0      0      0  51.8625         0\n",
      "7          0       3    1   2.0      3      1  21.0750         0\n",
      "8          1       3    0  27.0      0      2  11.1333         0\n",
      "9          1       2    0  14.0      1      0  30.0708         1\n",
      "10         1       3    0   4.0      1      1  16.7000         0\n",
      "survived      int64\n",
      "pclass        int64\n",
      "sex           int64\n",
      "age         float64\n",
      "sibsp         int64\n",
      "parch         int64\n",
      "fare        float64\n",
      "embarked      int64\n",
      "dtype: object\n"
     ]
    }
   ],
   "source": [
    "# convert values in 'sex' and 'embarked' to numerical types\n",
    "titanic['sex'].replace(['female','male'], [0,1], inplace=True)\n",
    "titanic['embarked'].replace(['S','C','Q'], [0,1,2], inplace=True)\n",
    "\n",
    "# display results\n",
    "print(titanic.head(10))\n",
    "print(titanic.dtypes)"
   ]
  },
  {
   "cell_type": "markdown",
   "id": "1af5533b",
   "metadata": {},
   "source": [
    "## 4. Modeling\n",
    "With our data cleaned and transformed, we can begin the modeling. First, we will split the data into X-independent and Y-dependent variables. Second, we will split the X and Y into training and test datas. Finally, we will run multiple machine learning models on the data. As mentioned previously, the models will aim to predict survival (Y-dependent variable) using the the other variables (X-independent variables). Here the training data is used to train the machine learning models to predict survival. The accuracy of the machine learning models are validated/verified by applying them to the testing data."
   ]
  },
  {
   "cell_type": "code",
   "execution_count": 34,
   "id": "51c7d5ae",
   "metadata": {},
   "outputs": [],
   "source": [
    "# split data into independent X and dependent Y Variables\n",
    "X = titanic.iloc[:, 1:8].values \n",
    "Y = titanic.iloc[:,0].values"
   ]
  },
  {
   "cell_type": "code",
   "execution_count": 35,
   "id": "a2619665",
   "metadata": {},
   "outputs": [],
   "source": [
    "# split X and Y into training and testing data\n",
    "from sklearn.model_selection import train_test_split \n",
    "\n",
    "# split is 80% training and 20% testing \n",
    "X_train, X_test, Y_train, Y_test = train_test_split(X,Y, test_size=0.2, random_state=0)"
   ]
  },
  {
   "cell_type": "code",
   "execution_count": 72,
   "id": "1483a1b0",
   "metadata": {},
   "outputs": [],
   "source": [
    "# a function that runs multiple ML models on our training data \n",
    "def models(X_train,Y_train):\n",
    "    # logistic regression\n",
    "    from sklearn.linear_model import LogisticRegression\n",
    "    log = LogisticRegression(random_state=0)\n",
    "    log.fit(X_train, Y_train)\n",
    "    \n",
    "    # k-nearest neighbors \n",
    "    from sklearn.neighbors import KNeighborsClassifier\n",
    "    knn = KNeighborsClassifier(n_neighbors=5, metric='minkowski',p=2)\n",
    "    knn.fit(X_train, Y_train)\n",
    "    \n",
    "    # Support Vector Machine (SVC) with linear kernel\n",
    "    from sklearn.svm import SVC\n",
    "    svc_lin = SVC(kernel='linear', random_state=0)\n",
    "    svc_lin.fit(X_train, Y_train)\n",
    "    \n",
    "    # SVC (RBF Kernel)\n",
    "    from sklearn.svm import SVC\n",
    "    svc_rbf = SVC(kernel='rbf', random_state=0)\n",
    "    svc_rbf.fit(X_train, Y_train)\n",
    "    \n",
    "    # Gaussian Naive Bayes \n",
    "    from sklearn.naive_bayes import GaussianNB\n",
    "    gauss = GaussianNB()\n",
    "    gauss.fit(X_train, Y_train)\n",
    "    \n",
    "    # Decision Tree \n",
    "    from sklearn.tree import DecisionTreeClassifier\n",
    "    tree = DecisionTreeClassifier(criterion='entropy', max_depth=7, random_state=0)\n",
    "    tree.fit(X_train, Y_train)\n",
    "    \n",
    "    # RandomForest Classifier \n",
    "    from sklearn.ensemble import RandomForestClassifier\n",
    "    forest = RandomForestClassifier(n_estimators=7, criterion='entropy', random_state=0)\n",
    "    forest.fit(X_train, Y_train)\n",
    "    \n",
    "    # Print the the training accuracy for each model\n",
    "    print('[0]Logistic Regression Training Accuracy:      ', log.score(X_train, Y_train))\n",
    "    print('[1]K-Neigbors Training Accuracy:               ', knn.score(X_train, Y_train))\n",
    "    print('[2]SVC Linear Training Accuracy:               ', svc_lin.score(X_train, Y_train))\n",
    "    print('[3]SVC RBF Training Accuracy:                  ', svc_rbf.score(X_train, Y_train))\n",
    "    print('[4]Gaussian NB Regression Training Accuracy:   ', gauss.score(X_train, Y_train))\n",
    "    print('[5]Decision Tree Classifier Training Accuracy: ', tree.score(X_train, Y_train))\n",
    "    print('[6]Random Forest Classifier Training Accuracy: ', forest.score(X_train, Y_train))\n",
    "    \n",
    "    return log, knn, svc_lin, svc_rbf, gauss, tree, forest"
   ]
  },
  {
   "cell_type": "code",
   "execution_count": 74,
   "id": "ac5bc2bf",
   "metadata": {},
   "outputs": [
    {
     "name": "stdout",
     "output_type": "stream",
     "text": [
      "[0]Logistic Regression Training Accuracy:       0.804920913884007\n",
      "[1]K-Neigbors Training Accuracy:                0.7803163444639719\n",
      "[2]SVC Linear Training Accuracy:                0.7768014059753954\n",
      "[3]SVC RBF Training Accuracy:                   0.6836555360281195\n",
      "[4]Gaussian NB Regression Training Accuracy:    0.7943760984182777\n",
      "[5]Decision Tree Classifier Training Accuracy:  0.8945518453427065\n",
      "[6]Random Forest Classifier Training Accuracy:  0.9753954305799648\n"
     ]
    }
   ],
   "source": [
    "# apply models to training data\n",
    "model = models(X_train, Y_train)"
   ]
  },
  {
   "cell_type": "markdown",
   "id": "7af17f12",
   "metadata": {},
   "source": [
    "As we can see above, the model the produced the greatest accuracy was the Decision Tree Classifier with an accuracy of around 97.54%. Second is the Random Forest Classifier with around 89.46% and third is Logistic Regression with 80.49%. What this tells us is that a Decision Tree Regression model (applied to the training data) can most accurately predict survival (Y-dependent variable) based on the X-independent variables. Now we need to validate these results using the testing data."
   ]
  },
  {
   "cell_type": "markdown",
   "id": "86f7544c",
   "metadata": {},
   "source": [
    "## 5. Model Evaluation\n",
    "The models' accuracies will be evaluated as follows. We will take the testing data's X-independent variables and use each model to predict the Y-dependent variable survival. We then will compare the predicted Y with the actual Y that is in the testing data. Accuracy is determined by comparing the number of true positives, true negatives, false positives, and false negatives. "
   ]
  },
  {
   "cell_type": "code",
   "execution_count": 78,
   "id": "e4b87236",
   "metadata": {},
   "outputs": [
    {
     "name": "stdout",
     "output_type": "stream",
     "text": [
      "True Positive: 73 False Positive: 9 \n",
      "False Negative: 18 True Negative: 43\n",
      "Model[0] Testing Accuracy= \"0.8111888111888111\"\n",
      "\n",
      "True Positive: 64 False Positive: 18 \n",
      "False Negative: 30 True Negative: 31\n",
      "Model[1] Testing Accuracy= \"0.6643356643356644\"\n",
      "\n",
      "True Positive: 70 False Positive: 12 \n",
      "False Negative: 18 True Negative: 43\n",
      "Model[2] Testing Accuracy= \"0.7902097902097902\"\n",
      "\n",
      "True Positive: 75 False Positive: 7 \n",
      "False Negative: 45 True Negative: 16\n",
      "Model[3] Testing Accuracy= \"0.6363636363636364\"\n",
      "\n",
      "True Positive: 67 False Positive: 15 \n",
      "False Negative: 19 True Negative: 42\n",
      "Model[4] Testing Accuracy= \"0.7622377622377622\"\n",
      "\n",
      "True Positive: 73 False Positive: 9 \n",
      "False Negative: 15 True Negative: 46\n",
      "Model[5] Testing Accuracy= \"0.8321678321678322\"\n",
      "\n",
      "True Positive: 62 False Positive: 20 \n",
      "False Negative: 14 True Negative: 47\n",
      "Model[6] Testing Accuracy= \"0.7622377622377622\"\n",
      "\n"
     ]
    }
   ],
   "source": [
    "# confusion matrix and accuracy for all models on the test data\n",
    "from sklearn.metrics import confusion_matrix\n",
    "\n",
    "for i in range(len(model)):\n",
    "    cm = confusion_matrix(Y_test, model[i].predict(X_test))\n",
    "    \n",
    "    # get True Negative, False Positive, False Negative, and True Positive\n",
    "    TN, FP, FN, TP = confusion_matrix(Y_test, model[i].predict(X_test)).ravel() \n",
    "    \n",
    "    # accuracy score\n",
    "    test_score = (TP + TN) / (TP + TN + FN + FP)\n",
    "    \n",
    "    # print results\n",
    "    print('True Positive:',cm[0][0],'False Positive:',cm[0][1],\n",
    "          '\\nFalse Negative:',cm[1][0],'True Negative:',cm[1][1])\n",
    "    print('Model[{}] Testing Accuracy= \"{}\"'.format(i, test_score))\n",
    "    print()"
   ]
  },
  {
   "cell_type": "markdown",
   "id": "50571c12",
   "metadata": {},
   "source": [
    "As we can see, the model that predicted closest to the actual results of in testing data was the Decision Tree Classifier with an accuracy of around 83.22%. However, 83.22% is less than the 89.45% achieved with the training data. In addition the best model in the training data with an accuracy of 97.54%, Random Forest Classifier, achieved only an accuracy of 76.22%. These discrepancies in the results is likely are result of overfitting the training data. Tree models tend to easily overfit data due to them being sensitive to variation in the data to the point where they can miss general trends. Regardless, the Decision Tree Classifier performed best. However, the most consistent model was that of the logistic regression who's training accuracy was 80.49% and testing accuracy was 81.11%. Overall, the most accurate model for predicitng whether someone survives the titanic tragedy is the Decision Tree Classifier. With this in mind, lets take a look at which variables or features were most important in predicting survival using the Decision Tree Classifier model. "
   ]
  },
  {
   "cell_type": "code",
   "execution_count": 81,
   "id": "cd784af5",
   "metadata": {},
   "outputs": [
    {
     "data": {
      "text/html": [
       "<div>\n",
       "<style scoped>\n",
       "    .dataframe tbody tr th:only-of-type {\n",
       "        vertical-align: middle;\n",
       "    }\n",
       "\n",
       "    .dataframe tbody tr th {\n",
       "        vertical-align: top;\n",
       "    }\n",
       "\n",
       "    .dataframe thead th {\n",
       "        text-align: right;\n",
       "    }\n",
       "</style>\n",
       "<table border=\"1\" class=\"dataframe\">\n",
       "  <thead>\n",
       "    <tr style=\"text-align: right;\">\n",
       "      <th></th>\n",
       "      <th>importance</th>\n",
       "    </tr>\n",
       "    <tr>\n",
       "      <th>feature</th>\n",
       "      <th></th>\n",
       "    </tr>\n",
       "  </thead>\n",
       "  <tbody>\n",
       "    <tr>\n",
       "      <th>sex</th>\n",
       "      <td>0.313</td>\n",
       "    </tr>\n",
       "    <tr>\n",
       "      <th>age</th>\n",
       "      <td>0.203</td>\n",
       "    </tr>\n",
       "    <tr>\n",
       "      <th>pclass</th>\n",
       "      <td>0.197</td>\n",
       "    </tr>\n",
       "    <tr>\n",
       "      <th>fare</th>\n",
       "      <td>0.162</td>\n",
       "    </tr>\n",
       "    <tr>\n",
       "      <th>sibsp</th>\n",
       "      <td>0.068</td>\n",
       "    </tr>\n",
       "    <tr>\n",
       "      <th>embarked</th>\n",
       "      <td>0.043</td>\n",
       "    </tr>\n",
       "    <tr>\n",
       "      <th>parch</th>\n",
       "      <td>0.014</td>\n",
       "    </tr>\n",
       "  </tbody>\n",
       "</table>\n",
       "</div>"
      ],
      "text/plain": [
       "          importance\n",
       "feature             \n",
       "sex            0.313\n",
       "age            0.203\n",
       "pclass         0.197\n",
       "fare           0.162\n",
       "sibsp          0.068\n",
       "embarked       0.043\n",
       "parch          0.014"
      ]
     },
     "execution_count": 81,
     "metadata": {},
     "output_type": "execute_result"
    }
   ],
   "source": [
    "# get feature importance \n",
    "decision_tree = model[5]\n",
    "importances = pd.DataFrame({'feature':titanic.iloc[:, 1:8].columns, \n",
    "                            'importance': np.round(decision_tree.feature_importances_, 3)}) \n",
    "importances = importances.sort_values('importance', ascending=False).set_index('feature')\n",
    "importances"
   ]
  },
  {
   "cell_type": "code",
   "execution_count": 82,
   "id": "50c291eb",
   "metadata": {},
   "outputs": [
    {
     "data": {
      "text/plain": [
       "<AxesSubplot:xlabel='feature'>"
      ]
     },
     "execution_count": 82,
     "metadata": {},
     "output_type": "execute_result"
    },
    {
     "data": {
      "image/png": "[encoded data removed]",
      "text/plain": [
       "<Figure size 432x288 with 1 Axes>"
      ]
     },
     "metadata": {
      "needs_background": "light"
     },
     "output_type": "display_data"
    }
   ],
   "source": [
    "# visualize feature importance\n",
    "importances.plot.bar()"
   ]
  },
  {
   "cell_type": "markdown",
   "id": "d25434db",
   "metadata": {},
   "source": [
    "Much like our initial observations during exploratory data analysis, sex, age, and pclass (person's class on ship) were the most important determinants of one's survival. Overall, the Decision Tree Classifier model does a good job of predicting survival without overfitting the training data significantly."
   ]
  }
 ],
 "metadata": {
  "kernelspec": {
   "display_name": "Python 3 (ipykernel)",
   "language": "python",
   "name": "python3"
  },
  "language_info": {
   "codemirror_mode": {
    "name": "ipython",
    "version": 3
   },
   "file_extension": ".py",
   "mimetype": "text/x-python",
   "name": "python",
   "nbconvert_exporter": "python",
   "pygments_lexer": "ipython3",
   "version": "3.9.12"
  }
 },
 "nbformat": 4,
 "nbformat_minor": 5
}
